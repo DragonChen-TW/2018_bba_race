{
 "cells": [
  {
   "cell_type": "code",
   "execution_count": 1,
   "metadata": {},
   "outputs": [],
   "source": [
    "import csv, time"
   ]
  },
  {
   "cell_type": "code",
   "execution_count": 14,
   "metadata": {},
   "outputs": [
    {
     "name": "stdout",
     "output_type": "stream",
     "text": [
      "['App', 'Category', 'Rating', 'Reviews', 'Size', 'Installs', 'Type', 'Price', 'Content Rating', 'Genres', 'Last Updated', 'Current Ver', 'Android Ver', 'app_id', 'img_url']\n"
     ]
    }
   ],
   "source": [
    "with open('../data/csv/google_play_with_img.csv', encoding='utf-8') as f:\n",
    "    reader = csv.DictReader(f)\n",
    "    print(reader.fieldnames)\n",
    "    data = [l for l in reader]"
   ]
  },
  {
   "cell_type": "code",
   "execution_count": 3,
   "metadata": {},
   "outputs": [],
   "source": [
    "from selenium import webdriver"
   ]
  },
  {
   "cell_type": "code",
   "execution_count": 4,
   "metadata": {},
   "outputs": [],
   "source": [
    "driver = webdriver.Firefox()"
   ]
  },
  {
   "cell_type": "code",
   "execution_count": 9,
   "metadata": {},
   "outputs": [],
   "source": [
    "# base_url = 'https://play.google.com/store'\n",
    "# driver.get(base_url)\n",
    "# search = driver.find_element_by_id('gbqfq')"
   ]
  },
  {
   "cell_type": "code",
   "execution_count": null,
   "metadata": {},
   "outputs": [
    {
     "name": "stdout",
     "output_type": "stream",
     "text": [
      "99 10841\n",
      "199 10841\n",
      "299 10841\n",
      "399 10841\n",
      "499 10841\n",
      "599 10841\n",
      "699 10841\n",
      "799 10841\n",
      "899 10841\n",
      "999 10841\n"
     ]
    }
   ],
   "source": [
    "for i, d in enumerate(data[0:3000]):\n",
    "    if (i + 1) % 100 == 0:\n",
    "        print(i, len(data))\n",
    "    if d['app_id'] != 'fail' and d['app_id'] != '':\n",
    "        continue\n",
    "    name = d['App']\n",
    "    \n",
    "    try:\n",
    "        search_url = 'https://play.google.com/store/search?q={}&c=apps'.format(name)\n",
    "        driver.get(search_url)\n",
    "    \n",
    "        # result\n",
    "        result = driver.find_element_by_class_name('preview-overlay-container')\n",
    "        d['app_id'] = result.get_attribute('data-docid')\n",
    "        \n",
    "        cover = driver.find_element_by_class_name('cover-image')\n",
    "        img_url = cover.get_attribute('src')\n",
    "        img_url = img_url[:img_url.find('=')]\n",
    "        d['img_url'] = img_url\n",
    "    except Exception as e:\n",
    "        d['app_id'] = 'fail'"
   ]
  },
  {
   "cell_type": "code",
   "execution_count": null,
   "metadata": {},
   "outputs": [],
   "source": [
    "with open('../data/csv/google_play_with_img.csv', 'w', encoding='utf-8') as f:\n",
    "    writer = csv.DictWriter(f, data[0].keys())\n",
    "    writer.writeheader()\n",
    "    writer.writerows(data)"
   ]
  },
  {
   "cell_type": "code",
   "execution_count": null,
   "metadata": {},
   "outputs": [],
   "source": []
  }
 ],
 "metadata": {
  "kernelspec": {
   "display_name": "Python 3",
   "language": "python",
   "name": "python3"
  },
  "language_info": {
   "codemirror_mode": {
    "name": "ipython",
    "version": 3
   },
   "file_extension": ".py",
   "mimetype": "text/x-python",
   "name": "python",
   "nbconvert_exporter": "python",
   "pygments_lexer": "ipython3",
   "version": "3.7.0"
  }
 },
 "nbformat": 4,
 "nbformat_minor": 2
}
