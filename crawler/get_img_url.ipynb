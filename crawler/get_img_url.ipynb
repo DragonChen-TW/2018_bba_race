{
 "cells": [
  {
   "cell_type": "code",
   "execution_count": 1,
   "metadata": {},
   "outputs": [],
   "source": [
    "import csv, time"
   ]
  },
  {
   "cell_type": "code",
   "execution_count": 2,
   "metadata": {},
   "outputs": [
    {
     "name": "stdout",
     "output_type": "stream",
     "text": [
      "['App', 'Category', 'Rating', 'Reviews', 'Size', 'Installs', 'Type', 'Price', 'Content Rating', 'Genres', 'Last Updated', 'Current Ver', 'Android Ver', 'app_id', 'img_url']\n"
     ]
    }
   ],
   "source": [
    "with open('../data/csv/google_play_with_img.csv', encoding='utf-8') as f:\n",
    "    reader = csv.DictReader(f)\n",
    "    print(reader.fieldnames)\n",
    "    data = [l for l in reader]"
   ]
  },
  {
   "cell_type": "code",
   "execution_count": 3,
   "metadata": {},
   "outputs": [],
   "source": [
    "from selenium import webdriver"
   ]
  },
  {
   "cell_type": "code",
   "execution_count": 4,
   "metadata": {},
   "outputs": [],
   "source": [
    "driver = webdriver.Firefox()"
   ]
  },
  {
   "cell_type": "code",
   "execution_count": 5,
   "metadata": {},
   "outputs": [],
   "source": [
    "# base_url = 'https://play.google.com/store'\n",
    "# driver.get(base_url)\n",
    "# search = driver.find_element_by_id('gbqfq')"
   ]
  },
  {
   "cell_type": "code",
   "execution_count": 7,
   "metadata": {},
   "outputs": [
    {
     "name": "stdout",
     "output_type": "stream",
     "text": [
      "12\n",
      "2000 10841\n",
      "4000 10841\n",
      "6000 10841\n",
      "8000 10841\n",
      "10000 10841\n",
      "10829\n",
      "12\n",
      "2000 10841\n",
      "4000 10841\n",
      "6000 10841\n",
      "8000 10841\n",
      "10000 10841\n",
      "10829\n"
     ]
    }
   ],
   "source": [
    "for _ in range(2):\n",
    "    print(len([1 for d in data if d['app_id'] == '' or d['app_id'] == 'fail']))\n",
    "    count = 0\n",
    "    for i, d in enumerate(data):\n",
    "        if (i + 1) % 2000 == 0:\n",
    "            print(i + 1, len(data))\n",
    "        if (i + 1) % 500 == 0:\n",
    "            with open('../data/csv/google_play_with_img.csv', 'w', encoding='utf-8') as f:\n",
    "                writer = csv.DictWriter(f, data[0].keys())\n",
    "                writer.writeheader()\n",
    "                writer.writerows(data)\n",
    "            time.sleep(3)\n",
    "        if d['app_id'] != 'fail' and d['app_id'] != '':\n",
    "            count += 1\n",
    "            continue\n",
    "        name = d['App']\n",
    "\n",
    "        try:\n",
    "            search_url = 'https://play.google.com/store/search?q={}&c=apps'.format(name)\n",
    "            time.sleep(0.2)\n",
    "            driver.get(search_url)\n",
    "\n",
    "            # result\n",
    "            result = driver.find_element_by_class_name('preview-overlay-container')\n",
    "            d['app_id'] = result.get_attribute('data-docid')\n",
    "\n",
    "            cover = driver.find_element_by_class_name('cover-image')\n",
    "            img_url = cover.get_attribute('src')\n",
    "            img_url = img_url[:img_url.find('=')]\n",
    "            d['img_url'] = img_url\n",
    "        except Exception as e:\n",
    "            d['app_id'] = 'fail'\n",
    "    print(count)\n",
    "    with open('../data/csv/google_play_with_img.csv', 'w', encoding='utf-8') as f:\n",
    "        writer = csv.DictWriter(f, data[0].keys())\n",
    "        writer.writeheader()\n",
    "        writer.writerows(data)\n",
    "    \n",
    "    time.sleep(5)"
   ]
  },
  {
   "cell_type": "code",
   "execution_count": null,
   "metadata": {},
   "outputs": [],
   "source": []
  }
 ],
 "metadata": {
  "kernelspec": {
   "display_name": "Python 3",
   "language": "python",
   "name": "python3"
  },
  "language_info": {
   "codemirror_mode": {
    "name": "ipython",
    "version": 3
   },
   "file_extension": ".py",
   "mimetype": "text/x-python",
   "name": "python",
   "nbconvert_exporter": "python",
   "pygments_lexer": "ipython3",
   "version": "3.7.0"
  }
 },
 "nbformat": 4,
 "nbformat_minor": 2
}
